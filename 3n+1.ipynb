{
  "nbformat": 4,
  "nbformat_minor": 0,
  "metadata": {
    "colab": {
      "provenance": [],
      "authorship_tag": "ABX9TyNchAnYIJ/3H/vUU7/kh812",
      "include_colab_link": true
    },
    "kernelspec": {
      "name": "python3",
      "display_name": "Python 3"
    },
    "language_info": {
      "name": "python"
    }
  },
  "cells": [
    {
      "cell_type": "markdown",
      "metadata": {
        "id": "view-in-github",
        "colab_type": "text"
      },
      "source": [
        "<a href=\"https://colab.research.google.com/github/chaitanyaa1512/Advanced-Python-Programming/blob/main/3n%2B1.ipynb\" target=\"_parent\"><img src=\"https://colab.research.google.com/assets/colab-badge.svg\" alt=\"Open In Colab\"/></a>"
      ]
    },
    {
      "cell_type": "code",
      "execution_count": 1,
      "metadata": {
        "colab": {
          "base_uri": "https://localhost:8080/"
        },
        "id": "NtGqkK8o2fHa",
        "outputId": "cfbeab8d-4a2f-4ced-f2c2-68a475d686a2"
      },
      "outputs": [
        {
          "output_type": "stream",
          "name": "stdout",
          "text": [
            "2\n",
            "1 10\n",
            "1 10 20\n",
            "100 200\n",
            "100 200 125\n"
          ]
        }
      ],
      "source": [
        "def max_cycle_length(i, j):\n",
        "    maximum = 0 # variable to store the maximum cycle length seen so far\n",
        "   \n",
        "    for k in range(i, j+1): # iterate over all integers between start_int and end_int\n",
        "        count = 1\n",
        "        n = k\n",
        "       \n",
        "        while n > 1: # repeat the algorithm until n = 1\n",
        "            if n % 2 == 0: # if n is even, divide by 2\n",
        "                n = n // 2\n",
        "            else: # if n is odd, multiply by 3 and add 1\n",
        "                n = 3*n + 1\n",
        "            count += 1\n",
        "       \n",
        "        if count > maximum: # update the maximum cycle length\n",
        "            maximum = count\n",
        "   \n",
        "    print(i,j,maximum)\n",
        "\n",
        "t = int(input())\n",
        "for i in range(t):\n",
        "  i,j = map(int,input().split())\n",
        "  max_cycle_length(i,j)"
      ]
    }
  ]
}